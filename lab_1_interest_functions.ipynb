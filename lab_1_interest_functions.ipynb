{
  "cells": [
    {
      "cell_type": "markdown",
      "metadata": {
        "id": "view-in-github",
        "colab_type": "text"
      },
      "source": [
        "<a href=\"https://colab.research.google.com/github/ColeBerning35/lab1_interest_functions/blob/master/lab_1_interest_functions.ipynb\" target=\"_parent\"><img src=\"https://colab.research.google.com/assets/colab-badge.svg\" alt=\"Open In Colab\"/></a>"
      ]
    },
    {
      "cell_type": "markdown",
      "metadata": {
        "id": "VY9NWaOpruzj"
      },
      "source": [
        "## Lab 1 - Compound Interest Functions\n",
        "\n",
        "Below you will find a table of important formulae related to compound interest.  \n",
        "\n",
        "<img src=\"https://www.dummies.com/wp-content/uploads/251689.image0.jpg\" alt=\"image0.jpg\" width=\"400\" height=\"319\">\n",
        "\n",
        "In this lab, you will create functions for each of these using (and documenting) the following workflow.\n",
        "\n",
        "1. Work out the correct answer for a few examples. *Hint* Search for e.g. \"worked out compound interest examples\" on the web.\n",
        "2. Write a `lambda` function and test this function on your test cases.\n",
        "3. Convert the `lambda` function to a `def` statement with an informative doc string that follows the [Google formating rules](https://google.github.io/styleguide/pyguide.html#383-functions-and-methods).\n",
        "4. Write an automated test function (using your previous examples) that will test your `def` statement function each time the code is executed."
      ]
    },
    {
      "cell_type": "markdown",
      "metadata": {
        "id": "e_8hdXocruzl"
      },
      "source": [
        "#### Problem 1 -- Apply the process to create a simple interest functions."
      ]
    },
    {
      "cell_type": "code",
      "execution_count": null,
      "metadata": {
        "id": "hgPYvW2wruzl",
        "outputId": "b7193cc0-591d-420c-c450-80b6ed6429d0",
        "colab": {
          "base_uri": "https://localhost:8080/"
        }
      },
      "outputs": [
        {
          "output_type": "stream",
          "name": "stdout",
          "text": [
            "Total interest earned: 1750.0\n",
            "Updated bank account total: 6750.0\n"
          ]
        }
      ],
      "source": [
        "principal = 5000\n",
        "interest_rate = .07\n",
        "time_in_years = 5\n",
        "Interest = principal*interest_rate*time_in_years\n",
        "UpdatedAccount = Interest + principal\n",
        "print(\"Total interest earned: \" + str(round(Interest,1)))\n",
        "print(\"Updated bank account total: \" + str(UpdatedAccount))"
      ]
    },
    {
      "cell_type": "code",
      "source": [
        "principal = 8000\n",
        "interest_rate = .087\n",
        "time_in_years = 7\n",
        "Interest = principal*interest_rate*time_in_years\n",
        "UpdatedAccount = Interest + principal\n",
        "print(\"Total interest earned: \" + str(round(Interest,1)))\n",
        "print(\"Updated bank account total: \" + str(UpdatedAccount))"
      ],
      "metadata": {
        "id": "tA6yi3x98lkh",
        "outputId": "4990791a-7b56-411b-9b81-47324d8d3d13",
        "colab": {
          "base_uri": "https://localhost:8080/"
        }
      },
      "execution_count": 24,
      "outputs": [
        {
          "output_type": "stream",
          "name": "stdout",
          "text": [
            "Total interest earned: 4872.0\n",
            "Updated bank account total: 12872.0\n"
          ]
        }
      ]
    },
    {
      "cell_type": "code",
      "source": [
        "principal = 3000\n",
        "interest_rate = .064\n",
        "time_in_years = 4\n",
        "Interest = principal*interest_rate*time_in_years\n",
        "UpdatedAccount = Interest + principal\n",
        "print(\"Total interest earned: \" + str(round(Interest,1)))\n",
        "print(\"Updated bank account total: \" + str(UpdatedAccount))"
      ],
      "metadata": {
        "id": "etDtBio-8z1l",
        "outputId": "6f501ad6-6336-41be-e614-76e8ab6313b2",
        "colab": {
          "base_uri": "https://localhost:8080/"
        }
      },
      "execution_count": 25,
      "outputs": [
        {
          "output_type": "stream",
          "name": "stdout",
          "text": [
            "Total interest earned: 768.0\n",
            "Updated bank account total: 3768.0\n"
          ]
        }
      ]
    },
    {
      "cell_type": "code",
      "source": [
        "simple_interest = lambda p,i,t: (p*i*t) + p"
      ],
      "metadata": {
        "id": "zWwZ7eHx5F-j"
      },
      "execution_count": 14,
      "outputs": []
    },
    {
      "cell_type": "code",
      "source": [
        "simple_interest(5000,.07,5)"
      ],
      "metadata": {
        "id": "wg6frPMT5XCY",
        "outputId": "66c0b83e-578d-4765-bfe9-481e2ab5b79b",
        "colab": {
          "base_uri": "https://localhost:8080/"
        }
      },
      "execution_count": 17,
      "outputs": [
        {
          "output_type": "execute_result",
          "data": {
            "text/plain": [
              "6750.0"
            ]
          },
          "metadata": {},
          "execution_count": 17
        }
      ]
    },
    {
      "cell_type": "code",
      "source": [
        "simple_interest(8000,.087,7)"
      ],
      "metadata": {
        "id": "FP2FiSYH9Eh2",
        "outputId": "863bda0e-3934-44c3-ccde-00b855a2ad2f",
        "colab": {
          "base_uri": "https://localhost:8080/"
        }
      },
      "execution_count": 26,
      "outputs": [
        {
          "output_type": "execute_result",
          "data": {
            "text/plain": [
              "12872.0"
            ]
          },
          "metadata": {},
          "execution_count": 26
        }
      ]
    },
    {
      "cell_type": "code",
      "source": [
        "simple_interest(3000,.064,4)"
      ],
      "metadata": {
        "id": "bDrpzeTd9L4l",
        "outputId": "990da4b5-7a4e-4406-a2e1-7d3f49b3df05",
        "colab": {
          "base_uri": "https://localhost:8080/"
        }
      },
      "execution_count": 27,
      "outputs": [
        {
          "output_type": "execute_result",
          "data": {
            "text/plain": [
              "3768.0"
            ]
          },
          "metadata": {},
          "execution_count": 27
        }
      ]
    },
    {
      "cell_type": "code",
      "source": [
        "def simple_interest(p,i,t):\n",
        "  \"\"\"Calculates the updated amount in a bank account after applying\n",
        "   simple interest\n",
        "   \n",
        "  Args:\n",
        "      p = Principal\n",
        "      i = Interest Rate\n",
        "      t = Time in years\n",
        "      \n",
        "  Returns: \n",
        "        A float of the updated amount in the bank account\n",
        "  \"\"\"\n",
        "  output = (p*i*t) + p\n",
        "  return output\n",
        "assert simple_interest(5000,.07,5) == 6750.0\n",
        "assert simple_interest(8000,.087,7) == 12872.0\n",
        "assert simple_interest(3000,.064,4) == 3768.0"
      ],
      "metadata": {
        "id": "iKLfTmkj56rS"
      },
      "execution_count": 29,
      "outputs": []
    },
    {
      "cell_type": "code",
      "source": [
        "help(simple_interest)"
      ],
      "metadata": {
        "id": "luMPSfPq7PuW",
        "outputId": "b0490a45-17ee-498b-8f36-bde03121037f",
        "colab": {
          "base_uri": "https://localhost:8080/"
        }
      },
      "execution_count": 19,
      "outputs": [
        {
          "output_type": "stream",
          "name": "stdout",
          "text": [
            "Help on function simple_interest in module __main__:\n",
            "\n",
            "simple_interest(p, i, t)\n",
            "    Calculates the updated amount in a bank account after applying\n",
            "     simple interest\n",
            "     \n",
            "    Args:\n",
            "        p = Principal\n",
            "        i = Interest Rate\n",
            "        t = Time in years\n",
            "        \n",
            "    Returns: \n",
            "          A float of the updated amount in the bank account\n",
            "\n"
          ]
        }
      ]
    },
    {
      "cell_type": "markdown",
      "metadata": {
        "id": "xEZBx7Saruzm"
      },
      "source": [
        "#### Problem 2 -- Apply the process to create a compound interest functions."
      ]
    },
    {
      "cell_type": "code",
      "execution_count": 3,
      "metadata": {
        "id": "eZK89v6oruzn",
        "outputId": "4f3f3bc6-13ac-4db1-f6c2-38950ffe3f6f",
        "colab": {
          "base_uri": "https://localhost:8080/"
        }
      },
      "outputs": [
        {
          "output_type": "stream",
          "name": "stdout",
          "text": [
            "Updated bank account total: $2367.36\n"
          ]
        }
      ],
      "source": [
        "principal = 1000\n",
        "interest_rate = .09\n",
        "time_in_years = 10\n",
        "compoundings = 1\n",
        "UpdatedAccount = principal * (1 + (interest_rate/compoundings))**(compoundings * time_in_years)\n",
        "print(\"Updated bank account total: $\" + str(round(UpdatedAccount,2)))"
      ]
    },
    {
      "cell_type": "code",
      "source": [
        "principal = 1000\n",
        "interest_rate = .09\n",
        "time_in_years = 20\n",
        "compoundings = 1\n",
        "UpdatedAccount = principal * (1 + (interest_rate/compoundings))**(compoundings * time_in_years)\n",
        "print(\"Updated bank account total: $\" + str(round(UpdatedAccount,2)))"
      ],
      "metadata": {
        "id": "FtdUm9cblm7u",
        "outputId": "ef894e36-f417-479c-fca6-4b83cf914bf8",
        "colab": {
          "base_uri": "https://localhost:8080/"
        }
      },
      "execution_count": 4,
      "outputs": [
        {
          "output_type": "stream",
          "name": "stdout",
          "text": [
            "Updated bank account total: $5604.41\n"
          ]
        }
      ]
    },
    {
      "cell_type": "code",
      "source": [
        "principal = 5000\n",
        "interest_rate = .1\n",
        "time_in_years = 20\n",
        "compoundings = 4\n",
        "UpdatedAccount = principal * (1 + (interest_rate/compoundings))**(compoundings * time_in_years)\n",
        "print(\"Updated bank account total: $\" + str(round(UpdatedAccount,2)))"
      ],
      "metadata": {
        "id": "asTtpX1Bl3Wo",
        "outputId": "9e6a9828-b2e8-45ae-9158-0988d84806f6",
        "colab": {
          "base_uri": "https://localhost:8080/"
        }
      },
      "execution_count": 5,
      "outputs": [
        {
          "output_type": "stream",
          "name": "stdout",
          "text": [
            "Updated bank account total: $36047.84\n"
          ]
        }
      ]
    },
    {
      "cell_type": "code",
      "source": [
        "compound_interest = lambda p,i,t,c: round((p * (1 + (i/c))**(c * t)),2)"
      ],
      "metadata": {
        "id": "G0Z4U9SimL8p"
      },
      "execution_count": 15,
      "outputs": []
    },
    {
      "cell_type": "code",
      "source": [
        "compound_interest(1000,.09,10,1)"
      ],
      "metadata": {
        "id": "GqwYxpoImeVW",
        "outputId": "4aae874a-0c2b-4ac6-e24b-c381d992d8ce",
        "colab": {
          "base_uri": "https://localhost:8080/"
        }
      },
      "execution_count": 16,
      "outputs": [
        {
          "output_type": "execute_result",
          "data": {
            "text/plain": [
              "2367.36"
            ]
          },
          "metadata": {},
          "execution_count": 16
        }
      ]
    },
    {
      "cell_type": "code",
      "source": [
        "compound_interest(1000,.09,20,1)"
      ],
      "metadata": {
        "id": "DH38kKfMmo8k",
        "outputId": "df080508-573f-4d98-dbca-113c247d1769",
        "colab": {
          "base_uri": "https://localhost:8080/"
        }
      },
      "execution_count": 17,
      "outputs": [
        {
          "output_type": "execute_result",
          "data": {
            "text/plain": [
              "5604.41"
            ]
          },
          "metadata": {},
          "execution_count": 17
        }
      ]
    },
    {
      "cell_type": "code",
      "source": [
        "compound_interest(5000,.1,20,4)"
      ],
      "metadata": {
        "id": "8E7nVnJ2mrMj",
        "outputId": "4123a804-d953-41f5-a515-005d91f3cd8b",
        "colab": {
          "base_uri": "https://localhost:8080/"
        }
      },
      "execution_count": 18,
      "outputs": [
        {
          "output_type": "execute_result",
          "data": {
            "text/plain": [
              "36047.84"
            ]
          },
          "metadata": {},
          "execution_count": 18
        }
      ]
    },
    {
      "cell_type": "code",
      "source": [
        "def compound_interest(p,i,t,c):\n",
        "  \"\"\"Calculates the updated amount in a bank account after applying\n",
        "   compound interest\n",
        "   \n",
        "  Args:\n",
        "      p = Principal\n",
        "      i = Interest Rate\n",
        "      t = Time in years\n",
        "      c = Compoundings\n",
        "      \n",
        "  Returns: \n",
        "        A float of the updated amount in the bank account\n",
        "  \"\"\"\n",
        "  output = round((p * (1 + (i/c))**(c * t)),2)\n",
        "  return output\n",
        "assert compound_interest(1000,.09,10,1) == 2367.36\n",
        "assert compound_interest(1000,.09,20,1) == 5604.41\n",
        "assert compound_interest(5000,.1,20,4) == 36047.84"
      ],
      "metadata": {
        "id": "xjgMEMmnmytW"
      },
      "execution_count": 20,
      "outputs": []
    },
    {
      "cell_type": "code",
      "source": [
        "help(compound_interest)"
      ],
      "metadata": {
        "id": "dNrwpN1vn1Ec",
        "outputId": "d702edc5-babb-43e6-cd1f-a1e82406b881",
        "colab": {
          "base_uri": "https://localhost:8080/"
        }
      },
      "execution_count": 21,
      "outputs": [
        {
          "output_type": "stream",
          "name": "stdout",
          "text": [
            "Help on function compound_interest in module __main__:\n",
            "\n",
            "compound_interest(p, i, t, c)\n",
            "    Calculates the updated amount in a bank account after applying\n",
            "     compound interest\n",
            "     \n",
            "    Args:\n",
            "        p = Principal\n",
            "        i = Interest Rate\n",
            "        t = Time in years\n",
            "        c = Compoundings\n",
            "        \n",
            "    Returns: \n",
            "          A float of the updated amount in the bank account\n",
            "\n"
          ]
        }
      ]
    },
    {
      "cell_type": "markdown",
      "metadata": {
        "id": "rq7iw4Ofruzn"
      },
      "source": [
        "#### Problem 3 -- Apply the process to create a amortized loan payment function."
      ]
    },
    {
      "cell_type": "code",
      "execution_count": 25,
      "metadata": {
        "id": "Tz1oH28wruzn",
        "outputId": "798dbfb7-7ed5-4a17-ff22-41945403b4c3",
        "colab": {
          "base_uri": "https://localhost:8080/"
        }
      },
      "outputs": [
        {
          "output_type": "stream",
          "name": "stdout",
          "text": [
            "Monthly loan payment $162.75\n"
          ]
        }
      ],
      "source": [
        "amount_borrowed = 1000\n",
        "interest_rate = .1\n",
        "numberofPayments = 10\n",
        "paymentAmount = (amount_borrowed * interest_rate)/(1 - (1 + interest_rate)**(-numberofPayments))\n",
        "print(\"Monthly loan payment $\" + str(round(paymentAmount,2)))"
      ]
    },
    {
      "cell_type": "code",
      "source": [
        "amount_borrowed = 2000\n",
        "interest_rate = .05\n",
        "numberofPayments = 5\n",
        "paymentAmount = (amount_borrowed * interest_rate)/(1 - (1 + interest_rate)**(-numberofPayments))\n",
        "print(\"Monthly loan payment $\" + str(round(paymentAmount,2)))"
      ],
      "metadata": {
        "id": "8RciC-LkrB9N",
        "outputId": "5aaaa527-fea3-486a-fa04-665151f74893",
        "colab": {
          "base_uri": "https://localhost:8080/"
        }
      },
      "execution_count": 28,
      "outputs": [
        {
          "output_type": "stream",
          "name": "stdout",
          "text": [
            "Monthly loan payment $461.95\n"
          ]
        }
      ]
    },
    {
      "cell_type": "code",
      "source": [
        "amount_borrowed = 500\n",
        "interest_rate = .2\n",
        "numberofPayments = 20\n",
        "paymentAmount = (amount_borrowed * interest_rate)/(1 - (1 + interest_rate)**(-numberofPayments))\n",
        "print(\"Monthly loan payment $\" + str(round(paymentAmount,2)))"
      ],
      "metadata": {
        "id": "TVKhCjdfrVVf",
        "outputId": "3a5b3412-3a90-4870-d62f-518f353b85fe",
        "colab": {
          "base_uri": "https://localhost:8080/"
        }
      },
      "execution_count": 29,
      "outputs": [
        {
          "output_type": "stream",
          "name": "stdout",
          "text": [
            "Monthly loan payment $102.68\n"
          ]
        }
      ]
    },
    {
      "cell_type": "code",
      "source": [
        "amortized = lambda a,i,n: round((a * i)/(1 - (1 + i)**(-n)),2)"
      ],
      "metadata": {
        "id": "2FpWMJGor2WT"
      },
      "execution_count": 32,
      "outputs": []
    },
    {
      "cell_type": "code",
      "source": [
        "amortized(1000,.1,10)"
      ],
      "metadata": {
        "id": "uw1Biq9ksJpv",
        "outputId": "27d43b6b-baef-43e3-e82f-8c73f3aa2a59",
        "colab": {
          "base_uri": "https://localhost:8080/"
        }
      },
      "execution_count": 33,
      "outputs": [
        {
          "output_type": "execute_result",
          "data": {
            "text/plain": [
              "162.75"
            ]
          },
          "metadata": {},
          "execution_count": 33
        }
      ]
    },
    {
      "cell_type": "code",
      "source": [
        "amortized(2000,.05,5)"
      ],
      "metadata": {
        "id": "svYxn3Y4saXG",
        "outputId": "378ed6ee-d3f9-461f-f8e5-7c47e6f61626",
        "colab": {
          "base_uri": "https://localhost:8080/"
        }
      },
      "execution_count": 34,
      "outputs": [
        {
          "output_type": "execute_result",
          "data": {
            "text/plain": [
              "461.95"
            ]
          },
          "metadata": {},
          "execution_count": 34
        }
      ]
    },
    {
      "cell_type": "code",
      "source": [
        "amortized(500,.2,20)"
      ],
      "metadata": {
        "id": "HAjoeUsvseNF",
        "outputId": "0a13fecf-fe3e-48e6-bbe3-3ea738ff6105",
        "colab": {
          "base_uri": "https://localhost:8080/"
        }
      },
      "execution_count": 35,
      "outputs": [
        {
          "output_type": "execute_result",
          "data": {
            "text/plain": [
              "102.68"
            ]
          },
          "metadata": {},
          "execution_count": 35
        }
      ]
    },
    {
      "cell_type": "code",
      "source": [
        "def amortized(a,i,n):\n",
        "  \"\"\"Calculates the monthly payment amount given loan information\n",
        "   \n",
        "  Args:\n",
        "      a = Amount of the loan\n",
        "      i = Interest Rate\n",
        "      n = Number of Payments\n",
        "      \n",
        "  Returns: \n",
        "        A float of the monthly payment amount the customer would \n",
        "        have to pay\n",
        "  \"\"\"\n",
        "  output = round((a * i)/(1 - (1 + i)**(-n)),2)\n",
        "  return output\n",
        "assert amortized(1000,.1,10) == 162.75\n",
        "assert amortized(2000,.05,5) == 461.95\n",
        "assert amortized(500,.2,20) == 102.68"
      ],
      "metadata": {
        "id": "JapV7S-Ysj8T"
      },
      "execution_count": 38,
      "outputs": []
    },
    {
      "cell_type": "markdown",
      "metadata": {
        "id": "bPExS0_Vruzn"
      },
      "source": [
        "#### Problem 4 -- Apply the process to create a remaining balance function"
      ]
    },
    {
      "cell_type": "code",
      "execution_count": 46,
      "metadata": {
        "id": "eKT46sB_ruzn",
        "outputId": "4628c4ab-de8a-4087-9be3-405a4dcf17f5",
        "colab": {
          "base_uri": "https://localhost:8080/"
        }
      },
      "outputs": [
        {
          "output_type": "stream",
          "name": "stdout",
          "text": [
            "Remaining Balance $13.62\n"
          ]
        }
      ],
      "source": [
        "regular_payment = 5\n",
        "interest_rate = 0.05\n",
        "numberofPayments = 10\n",
        "paidPayments = 7\n",
        "remainingBalance = regular_payment * (abs((1 - (1 + interest_rate)**-(numberofPayments- paidPayments))/ interest_rate))\n",
        "print(\"Remaining Balance $\" + str(round(remainingBalance,2)))"
      ]
    },
    {
      "cell_type": "code",
      "source": [
        "regular_payment = 500\n",
        "interest_rate = 0.1\n",
        "numberofPayments = 5\n",
        "paidPayments = 1\n",
        "remainingBalance = regular_payment * (abs((1 - (1 + interest_rate)**-(numberofPayments- paidPayments))/ interest_rate))\n",
        "print(\"Remaining Balance $\" + str(round(remainingBalance,2)))"
      ],
      "metadata": {
        "id": "_1f4ek5Y2jz6",
        "outputId": "7984457a-635a-4e8c-f487-ad9b848bd95f",
        "colab": {
          "base_uri": "https://localhost:8080/"
        }
      },
      "execution_count": 50,
      "outputs": [
        {
          "output_type": "stream",
          "name": "stdout",
          "text": [
            "Remaining Balance $1584.93\n"
          ]
        }
      ]
    },
    {
      "cell_type": "code",
      "source": [
        "regular_payment = 250\n",
        "interest_rate = 0.089\n",
        "numberofPayments = 20\n",
        "paidPayments = 15\n",
        "remainingBalance = regular_payment * (abs((1 - (1 + interest_rate)**-(numberofPayments- paidPayments))/ interest_rate))\n",
        "print(\"Remaining Balance $\" + str(round(remainingBalance,2)))"
      ],
      "metadata": {
        "id": "3DblIu4k297w",
        "outputId": "e3061d8e-6046-47f0-cdfa-f5f939533062",
        "colab": {
          "base_uri": "https://localhost:8080/"
        }
      },
      "execution_count": 51,
      "outputs": [
        {
          "output_type": "stream",
          "name": "stdout",
          "text": [
            "Remaining Balance $974.94\n"
          ]
        }
      ]
    },
    {
      "cell_type": "code",
      "source": [
        "remaining_balance = lambda r,i,n,p: round(r * (abs((1 - (1 + i)**-(n - p))/ i)),2)"
      ],
      "metadata": {
        "id": "L2ustOOU3RAM"
      },
      "execution_count": 52,
      "outputs": []
    },
    {
      "cell_type": "code",
      "source": [
        "remaining_balance(5,.05,10,7)"
      ],
      "metadata": {
        "id": "eLinePNZ3iBE",
        "outputId": "4676add5-b1b0-4d5a-e443-2359b4fabe0a",
        "colab": {
          "base_uri": "https://localhost:8080/"
        }
      },
      "execution_count": 53,
      "outputs": [
        {
          "output_type": "execute_result",
          "data": {
            "text/plain": [
              "13.62"
            ]
          },
          "metadata": {},
          "execution_count": 53
        }
      ]
    },
    {
      "cell_type": "code",
      "source": [
        "remaining_balance(500,.1,5,1)"
      ],
      "metadata": {
        "id": "bkv_S67eu1JL",
        "outputId": "56922fff-b3e1-474c-99b3-c0877eccc5a6",
        "colab": {
          "base_uri": "https://localhost:8080/"
        }
      },
      "execution_count": 54,
      "outputs": [
        {
          "output_type": "execute_result",
          "data": {
            "text/plain": [
              "1584.93"
            ]
          },
          "metadata": {},
          "execution_count": 54
        }
      ]
    },
    {
      "cell_type": "code",
      "source": [
        "remaining_balance(250,0.089,20,15)"
      ],
      "metadata": {
        "id": "Vz3BARYC3pmu",
        "outputId": "3de5da98-9812-46ac-845f-b0fd274c7367",
        "colab": {
          "base_uri": "https://localhost:8080/"
        }
      },
      "execution_count": 55,
      "outputs": [
        {
          "output_type": "execute_result",
          "data": {
            "text/plain": [
              "974.94"
            ]
          },
          "metadata": {},
          "execution_count": 55
        }
      ]
    },
    {
      "cell_type": "code",
      "source": [
        "def remaining_balance(r,i,n,p):\n",
        "  \"\"\"Calculates the remaining balance of a bill a customer still \n",
        "  has to pay\n",
        "   \n",
        "  Args:\n",
        "      r = Regular Payment\n",
        "      i = Interest rate per period\n",
        "      n = number of payment\n",
        "      p = number of payment already made\n",
        "      \n",
        "  Returns: \n",
        "        A float of the remaining balance of a bill a customer \n",
        "        still has to pay\n",
        "  \"\"\"\n",
        "  output = round(r * (abs((1 - (1 + i)**-(n - p))/ i)),2)\n",
        "  return output\n",
        "assert remaining_balance(5,.05,10,7) == 13.62\n",
        "assert remaining_balance(500,.1,5,1) == 1584.93\n",
        "assert remaining_balance(250,0.089,20,15) == 974.94"
      ],
      "metadata": {
        "id": "Rdlrakj_30N8"
      },
      "execution_count": 58,
      "outputs": []
    }
  ],
  "metadata": {
    "kernelspec": {
      "display_name": "Python 3",
      "language": "python",
      "name": "python3"
    },
    "language_info": {
      "codemirror_mode": {
        "name": "ipython",
        "version": 3
      },
      "file_extension": ".py",
      "mimetype": "text/x-python",
      "name": "python",
      "nbconvert_exporter": "python",
      "pygments_lexer": "ipython3",
      "version": "3.7.2"
    },
    "colab": {
      "provenance": [],
      "include_colab_link": true
    }
  },
  "nbformat": 4,
  "nbformat_minor": 0
}